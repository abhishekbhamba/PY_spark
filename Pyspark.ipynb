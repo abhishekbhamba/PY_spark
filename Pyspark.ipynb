{
  "nbformat": 4,
  "nbformat_minor": 0,
  "metadata": {
    "colab": {
      "name": "Abhishek_Dharmender_Pyspark.ipynb",
      "provenance": []
    },
    "kernelspec": {
      "name": "python3",
      "display_name": "Python 3"
    },
    "language_info": {
      "name": "python"
    }
  },
  "cells": [
    {
      "cell_type": "code",
      "execution_count": 1,
      "metadata": {
        "colab": {
          "base_uri": "https://localhost:8080/"
        },
        "id": "trsqe7t10wgO",
        "outputId": "e4bdb661-efc4-43b7-9a4f-05cbe07cba0c"
      },
      "outputs": [
        {
          "output_type": "stream",
          "name": "stdout",
          "text": [
            "Collecting pyspark\n",
            "  Downloading pyspark-3.2.1.tar.gz (281.4 MB)\n",
            "\u001b[K     |████████████████████████████████| 281.4 MB 33 kB/s \n",
            "\u001b[?25hCollecting py4j==0.10.9.3\n",
            "  Downloading py4j-0.10.9.3-py2.py3-none-any.whl (198 kB)\n",
            "\u001b[K     |████████████████████████████████| 198 kB 47.6 MB/s \n",
            "\u001b[?25hBuilding wheels for collected packages: pyspark\n",
            "  Building wheel for pyspark (setup.py) ... \u001b[?25l\u001b[?25hdone\n",
            "  Created wheel for pyspark: filename=pyspark-3.2.1-py2.py3-none-any.whl size=281853642 sha256=f69f1c2830a32f868174ad8db2b0b4d69698f7d57a66be414afb9de9971b65c5\n",
            "  Stored in directory: /root/.cache/pip/wheels/9f/f5/07/7cd8017084dce4e93e84e92efd1e1d5334db05f2e83bcef74f\n",
            "Successfully built pyspark\n",
            "Installing collected packages: py4j, pyspark\n",
            "Successfully installed py4j-0.10.9.3 pyspark-3.2.1\n"
          ]
        }
      ],
      "source": [
        "pip install pyspark"
      ]
    },
    {
      "cell_type": "code",
      "source": [
        "# intializing spark\n",
        "from pyspark import SparkContext, SparkConf\n",
        "# spark config\n",
        "conf = SparkConf().setAppName(\"sampleapp\")\n",
        "sc = SparkContext(conf=conf)"
      ],
      "metadata": {
        "colab": {
          "base_uri": "https://localhost:8080/",
          "height": 247
        },
        "id": "hpROKV6L0zgd",
        "outputId": "dff0a4a5-d05c-4f77-ebb3-eb88c1259426"
      },
      "execution_count": 3,
      "outputs": [
        {
          "output_type": "error",
          "ename": "ValueError",
          "evalue": "ignored",
          "traceback": [
            "\u001b[0;31m---------------------------------------------------------------------------\u001b[0m",
            "\u001b[0;31mValueError\u001b[0m                                Traceback (most recent call last)",
            "\u001b[0;32m<ipython-input-3-214c70c8d918>\u001b[0m in \u001b[0;36m<module>\u001b[0;34m()\u001b[0m\n\u001b[1;32m      3\u001b[0m \u001b[0;31m# spark config\u001b[0m\u001b[0;34m\u001b[0m\u001b[0;34m\u001b[0m\u001b[0;34m\u001b[0m\u001b[0m\n\u001b[1;32m      4\u001b[0m \u001b[0mconf\u001b[0m \u001b[0;34m=\u001b[0m \u001b[0mSparkConf\u001b[0m\u001b[0;34m(\u001b[0m\u001b[0;34m)\u001b[0m\u001b[0;34m.\u001b[0m\u001b[0msetAppName\u001b[0m\u001b[0;34m(\u001b[0m\u001b[0;34m\"sampleapp\"\u001b[0m\u001b[0;34m)\u001b[0m\u001b[0;34m\u001b[0m\u001b[0;34m\u001b[0m\u001b[0m\n\u001b[0;32m----> 5\u001b[0;31m \u001b[0msc\u001b[0m \u001b[0;34m=\u001b[0m \u001b[0mSparkContext\u001b[0m\u001b[0;34m(\u001b[0m\u001b[0mconf\u001b[0m\u001b[0;34m=\u001b[0m\u001b[0mconf\u001b[0m\u001b[0;34m)\u001b[0m\u001b[0;34m\u001b[0m\u001b[0;34m\u001b[0m\u001b[0m\n\u001b[0m",
            "\u001b[0;32m/usr/local/lib/python3.7/dist-packages/pyspark/context.py\u001b[0m in \u001b[0;36m__init__\u001b[0;34m(self, master, appName, sparkHome, pyFiles, environment, batchSize, serializer, conf, gateway, jsc, profiler_cls)\u001b[0m\n\u001b[1;32m    142\u001b[0m                 \" is not allowed as it is a security risk.\")\n\u001b[1;32m    143\u001b[0m \u001b[0;34m\u001b[0m\u001b[0m\n\u001b[0;32m--> 144\u001b[0;31m         \u001b[0mSparkContext\u001b[0m\u001b[0;34m.\u001b[0m\u001b[0m_ensure_initialized\u001b[0m\u001b[0;34m(\u001b[0m\u001b[0mself\u001b[0m\u001b[0;34m,\u001b[0m \u001b[0mgateway\u001b[0m\u001b[0;34m=\u001b[0m\u001b[0mgateway\u001b[0m\u001b[0;34m,\u001b[0m \u001b[0mconf\u001b[0m\u001b[0;34m=\u001b[0m\u001b[0mconf\u001b[0m\u001b[0;34m)\u001b[0m\u001b[0;34m\u001b[0m\u001b[0;34m\u001b[0m\u001b[0m\n\u001b[0m\u001b[1;32m    145\u001b[0m         \u001b[0;32mtry\u001b[0m\u001b[0;34m:\u001b[0m\u001b[0;34m\u001b[0m\u001b[0;34m\u001b[0m\u001b[0m\n\u001b[1;32m    146\u001b[0m             self._do_init(master, appName, sparkHome, pyFiles, environment, batchSize, serializer,\n",
            "\u001b[0;32m/usr/local/lib/python3.7/dist-packages/pyspark/context.py\u001b[0m in \u001b[0;36m_ensure_initialized\u001b[0;34m(cls, instance, gateway, conf)\u001b[0m\n\u001b[1;32m    353\u001b[0m                         \u001b[0;34m\" created by %s at %s:%s \"\u001b[0m\u001b[0;34m\u001b[0m\u001b[0;34m\u001b[0m\u001b[0m\n\u001b[1;32m    354\u001b[0m                         % (currentAppName, currentMaster,\n\u001b[0;32m--> 355\u001b[0;31m                             callsite.function, callsite.file, callsite.linenum))\n\u001b[0m\u001b[1;32m    356\u001b[0m                 \u001b[0;32melse\u001b[0m\u001b[0;34m:\u001b[0m\u001b[0;34m\u001b[0m\u001b[0;34m\u001b[0m\u001b[0m\n\u001b[1;32m    357\u001b[0m                     \u001b[0mSparkContext\u001b[0m\u001b[0;34m.\u001b[0m\u001b[0m_active_spark_context\u001b[0m \u001b[0;34m=\u001b[0m \u001b[0minstance\u001b[0m\u001b[0;34m\u001b[0m\u001b[0;34m\u001b[0m\u001b[0m\n",
            "\u001b[0;31mValueError\u001b[0m: Cannot run multiple SparkContexts at once; existing SparkContext(app=sampleapp, master=local[*]) created by __init__ at <ipython-input-2-214c70c8d918>:5 "
          ]
        }
      ]
    },
    {
      "cell_type": "code",
      "source": [
        "from pyspark.context import SparkContext\n",
        "from pyspark.sql.session import SparkSession\n",
        "sc = SparkContext.getOrCreate().getOrCreate()\n",
        "spark = SparkSession(sc)"
      ],
      "metadata": {
        "id": "zUJ8xnVx2wN3"
      },
      "execution_count": 4,
      "outputs": []
    },
    {
      "cell_type": "code",
      "source": [
        "df = spark.read.format(\"csv\").option(\"header\",\"true\").option(\"inferSchema\",\"true\").load(\"/content/UIDAI-ENR-DETAIL-20170308.csv\")"
      ],
      "metadata": {
        "id": "emvPsSfv2x_f"
      },
      "execution_count": 6,
      "outputs": []
    },
    {
      "cell_type": "code",
      "source": [
        "df.show()"
      ],
      "metadata": {
        "colab": {
          "base_uri": "https://localhost:8080/"
        },
        "id": "G03AVY_D257X",
        "outputId": "eb3d96e7-6716-4d4c-8712-79b2f4c3c12a"
      },
      "execution_count": 7,
      "outputs": [
        {
          "output_type": "stream",
          "name": "stdout",
          "text": [
            "+--------------------+--------------------+-------------+----------+------------+--------+------+---+-----------------+------------------+-------------------------+---------------------------------+\n",
            "|           Registrar|    Enrolment Agency|        State|  District|Sub District|Pin Code|Gender|Age|Aadhaar generated|Enrolment Rejected|Residents providing email|Residents providing mobile number|\n",
            "+--------------------+--------------------+-------------+----------+------------+--------+------+---+-----------------+------------------+-------------------------+---------------------------------+\n",
            "|      Allahabad Bank|A-Onerealtors Pvt...|Uttar Pradesh| Allahabad|        Meja|  212303|     F|  7|                1|                 0|                        0|                                1|\n",
            "|      Allahabad Bank|Asha Security Gua...|Uttar Pradesh| Sonbhadra| Robertsganj|  231213|     M|  8|                1|                 0|                        0|                                0|\n",
            "|      Allahabad Bank|   SGS INDIA PVT LTD|Uttar Pradesh| Sultanpur|   Sultanpur|  227812|     F| 13|                1|                 0|                        0|                                1|\n",
            "|      Allahabad Bank|Sri Ramraja Sarka...|Uttar Pradesh|    Shamli|      Shamli|  247775|     M|  6|                1|                 0|                        0|                                1|\n",
            "|      Allahabad Bank|  Transmoovers India|Uttar Pradesh| Gorakhpur|    Sahjanwa|  273001|     M|  8|                1|                 0|                        0|                                1|\n",
            "|      Allahabad Bank|  Transmoovers India|Uttar Pradesh|  Varanasi|      Pindra|  221101|     M| 14|                1|                 0|                        0|                                1|\n",
            "|      Allahabad Bank|  Transmoovers India|Uttar Pradesh|  Varanasi|    Varanasi|  221001|     M|  9|                1|                 0|                        0|                                1|\n",
            "|      Allahabad Bank|  Transmoovers India|Uttar Pradesh|  Varanasi|    Varanasi|  221002|     M|  4|                1|                 0|                        0|                                1|\n",
            "|      Allahabad Bank|  Transmoovers India|Uttar Pradesh|  Varanasi|    Varanasi|  221002|     M| 10|                0|                 1|                        0|                                1|\n",
            "|      Allahabad Bank|  Transmoovers India|Uttar Pradesh|  Varanasi|    Varanasi|  221002|     M| 19|                1|                 0|                        0|                                1|\n",
            "|      Allahabad Bank|Vedavaag Systems ...|Uttar Pradesh|Bara Banki|   Nawabganj|  225301|     M|  8|                1|                 0|                        0|                                0|\n",
            "|Atalji Janasnehi ...|Atalji Janasnehi ...|        Assam|  Marigaon|   Bhuragaon|  782121|     M| 22|                1|                 0|                        0|                                1|\n",
            "|Atalji Janasnehi ...|Atalji Janasnehi ...|        Bihar| Gopalganj|  Vijayeepur|  841508|     M| 26|                1|                 0|                        0|                                1|\n",
            "|Atalji Janasnehi ...|Atalji Janasnehi ...|    Karnataka|  Bagalkot|      Badami|  587114|     M| 27|                1|                 0|                        0|                                1|\n",
            "|Atalji Janasnehi ...|Atalji Janasnehi ...|    Karnataka|  Bagalkot|      Badami|  587155|     F|  2|                1|                 0|                        0|                                1|\n",
            "|Atalji Janasnehi ...|Atalji Janasnehi ...|    Karnataka|  Bagalkot|      Badami|  587155|     M| 67|                1|                 0|                        0|                                1|\n",
            "|Atalji Janasnehi ...|Atalji Janasnehi ...|    Karnataka|  Bagalkot|      Badami|  587201|     F| 32|                1|                 0|                        0|                                1|\n",
            "|Atalji Janasnehi ...|Atalji Janasnehi ...|    Karnataka|  Bagalkot|      Badami|  587203|     M| 27|                1|                 0|                        0|                                1|\n",
            "|Atalji Janasnehi ...|Atalji Janasnehi ...|    Karnataka|  Bagalkot|      Badami|  587206|     F| 40|                1|                 0|                        0|                                0|\n",
            "|Atalji Janasnehi ...|Atalji Janasnehi ...|    Karnataka|  Bagalkot|      Badami|  587206|     M| 28|                1|                 0|                        0|                                1|\n",
            "+--------------------+--------------------+-------------+----------+------------+--------+------+---+-----------------+------------------+-------------------------+---------------------------------+\n",
            "only showing top 20 rows\n",
            "\n"
          ]
        }
      ]
    },
    {
      "cell_type": "code",
      "source": [
        "df.printSchema()"
      ],
      "metadata": {
        "colab": {
          "base_uri": "https://localhost:8080/"
        },
        "id": "iMzmYzPV3FHN",
        "outputId": "f1a0c176-6136-4fd6-d538-0d5ae4844135"
      },
      "execution_count": 8,
      "outputs": [
        {
          "output_type": "stream",
          "name": "stdout",
          "text": [
            "root\n",
            " |-- Registrar: string (nullable = true)\n",
            " |-- Enrolment Agency: string (nullable = true)\n",
            " |-- State: string (nullable = true)\n",
            " |-- District: string (nullable = true)\n",
            " |-- Sub District: string (nullable = true)\n",
            " |-- Pin Code: integer (nullable = true)\n",
            " |-- Gender: string (nullable = true)\n",
            " |-- Age: integer (nullable = true)\n",
            " |-- Aadhaar generated: integer (nullable = true)\n",
            " |-- Enrolment Rejected: integer (nullable = true)\n",
            " |-- Residents providing email: integer (nullable = true)\n",
            " |-- Residents providing mobile number: integer (nullable = true)\n",
            "\n"
          ]
        }
      ]
    },
    {
      "cell_type": "code",
      "source": [
        ""
      ],
      "metadata": {
        "id": "RnVman6H3IRh"
      },
      "execution_count": null,
      "outputs": []
    },
    {
      "cell_type": "markdown",
      "source": [
        "## Create a dataframe with Total Aadhaar's generated for each state."
      ],
      "metadata": {
        "id": "R3sqmi6z3Suw"
      }
    },
    {
      "cell_type": "code",
      "source": [
        "df1 = df.groupby(\"State\").sum(\"Aadhaar generated\").show()"
      ],
      "metadata": {
        "colab": {
          "base_uri": "https://localhost:8080/"
        },
        "id": "z7qChru63TyF",
        "outputId": "9daf0ac6-4ae3-49a5-d370-79b97a7b2cc7"
      },
      "execution_count": 9,
      "outputs": [
        {
          "output_type": "stream",
          "name": "stdout",
          "text": [
            "+--------------------+----------------------+\n",
            "|               State|sum(Aadhaar generated)|\n",
            "+--------------------+----------------------+\n",
            "|           Karnataka|                  1556|\n",
            "|              Odisha|                    61|\n",
            "|              Kerala|                    17|\n",
            "|          Tamil Nadu|                  8349|\n",
            "|        Chhattisgarh|                     1|\n",
            "|      Andhra Pradesh|                    44|\n",
            "|      Madhya Pradesh|                   856|\n",
            "|              Punjab|                     3|\n",
            "|    Himachal Pradesh|                     1|\n",
            "|          Puducherry|                     7|\n",
            "|             Haryana|                     2|\n",
            "|   Jammu and Kashmir|                     3|\n",
            "|           Jharkhand|                   226|\n",
            "|             Gujarat|                     1|\n",
            "|               Delhi|                    35|\n",
            "|          Chandigarh|                     2|\n",
            "|           Rajasthan|                    28|\n",
            "|Andaman and Nicob...|                     2|\n",
            "|               Assam|                    26|\n",
            "|           Meghalaya|                     2|\n",
            "+--------------------+----------------------+\n",
            "only showing top 20 rows\n",
            "\n"
          ]
        }
      ]
    },
    {
      "cell_type": "code",
      "source": [
        ""
      ],
      "metadata": {
        "id": "kQm9dZKh3XIP"
      },
      "execution_count": null,
      "outputs": []
    },
    {
      "cell_type": "markdown",
      "source": [
        "## Create a dataframe with Total Aadhaar's generated by each enrollment agency."
      ],
      "metadata": {
        "id": "pmX3wx9k3beU"
      }
    },
    {
      "cell_type": "code",
      "source": [
        "df2 = df.groupby(\"Enrolment Agency\").sum(\"Aadhaar generated\").show()"
      ],
      "metadata": {
        "colab": {
          "base_uri": "https://localhost:8080/"
        },
        "id": "8_jspo2Z3chi",
        "outputId": "a81bcfb8-7dfd-424f-be7e-7be55bc18359"
      },
      "execution_count": 10,
      "outputs": [
        {
          "output_type": "stream",
          "name": "stdout",
          "text": [
            "+--------------------+----------------------+\n",
            "|    Enrolment Agency|sum(Aadhaar generated)|\n",
            "+--------------------+----------------------+\n",
            "|  Transmoovers India|                     5|\n",
            "|OSWAL COMPUTERS &...|                   578|\n",
            "|SHRIKRISHNA KHAND...|                     1|\n",
            "|Atalji Janasnehi ...|                  1369|\n",
            "|Sri Ramraja Sarka...|                     1|\n",
            "|Asha Security Gua...|                     1|\n",
            "|Frontech Systems ...|                   109|\n",
            "|Vedavaag Systems ...|                     1|\n",
            "|      SARADA SYSTEMS|                     8|\n",
            "|PROTEX COMPUTER P...|                  2180|\n",
            "|SREI INFRASTRUCTU...|                 25571|\n",
            "|VEETECHNOLOGIES P...|                  9674|\n",
            "|A-Onerealtors Pvt...|                     1|\n",
            "|CHESSY CONSULTANT...|                   133|\n",
            "|DATASOFT COMPUTER...|                    21|\n",
            "|   SGS INDIA PVT LTD|                     1|\n",
            "+--------------------+----------------------+\n",
            "\n"
          ]
        }
      ]
    },
    {
      "cell_type": "code",
      "source": [
        ""
      ],
      "metadata": {
        "id": "RoeBshY73epe"
      },
      "execution_count": null,
      "outputs": []
    },
    {
      "cell_type": "markdown",
      "source": [
        "## Create dataframe with top 10 districts with maximum Aadhaar's generated for both Male and Female?"
      ],
      "metadata": {
        "id": "Y-cWvdGF3ivr"
      }
    },
    {
      "cell_type": "code",
      "source": [
        "df3 = df.crosstab(\"District\",\"Gender\").show()"
      ],
      "metadata": {
        "colab": {
          "base_uri": "https://localhost:8080/"
        },
        "id": "PRGJaRDb3jpm",
        "outputId": "d10055c2-ac2f-464d-ff14-509e84a80ae2"
      },
      "execution_count": 11,
      "outputs": [
        {
          "output_type": "stream",
          "name": "stdout",
          "text": [
            "+---------------+---+---+\n",
            "|District_Gender|  F|  M|\n",
            "+---------------+---+---+\n",
            "|      Chandauli| 14|  8|\n",
            "|          Panna|  2|  1|\n",
            "| East Champaran|118|109|\n",
            "|       Puruliya|112|195|\n",
            "|          Unnao| 13| 28|\n",
            "|  Pauri Garhwal|  1|  0|\n",
            "|         Khunti|  0|  5|\n",
            "|        Nellore|  2|  0|\n",
            "|     Villupuram| 43|  0|\n",
            "|       Azamgarh| 49| 65|\n",
            "|        Koderma|  3|  8|\n",
            "| East Singhbhum| 14| 13|\n",
            "|       Cuddapah|  0|  1|\n",
            "|          Udupi| 18| 31|\n",
            "|       Shajapur|  4| 10|\n",
            "|     East Delhi|  7|  0|\n",
            "|       Marigaon|  0|  1|\n",
            "|         Kodagu|  9|  4|\n",
            "|          Karur|140|  0|\n",
            "|          Bhind|  5| 15|\n",
            "+---------------+---+---+\n",
            "only showing top 20 rows\n",
            "\n"
          ]
        }
      ]
    },
    {
      "cell_type": "code",
      "source": [
        ""
      ],
      "metadata": {
        "id": "ST1kvaSW3mZj"
      },
      "execution_count": null,
      "outputs": []
    },
    {
      "cell_type": "markdown",
      "source": [
        "## Create a dataframe with Total Aadhaar's generated for top 10 least state."
      ],
      "metadata": {
        "id": "mM2ZSiVP3qcL"
      }
    },
    {
      "cell_type": "code",
      "source": [
        "df.agg({\"State\":\"min\",\"Aadhaar generated\":\"min\"}).show()"
      ],
      "metadata": {
        "colab": {
          "base_uri": "https://localhost:8080/"
        },
        "id": "HGFUzvTm3rZx",
        "outputId": "7f76a469-eaf5-4456-aebe-241f849c091d"
      },
      "execution_count": 12,
      "outputs": [
        {
          "output_type": "stream",
          "name": "stdout",
          "text": [
            "+--------------------+----------------------+\n",
            "|          min(State)|min(Aadhaar generated)|\n",
            "+--------------------+----------------------+\n",
            "|Andaman and Nicob...|                     0|\n",
            "+--------------------+----------------------+\n",
            "\n"
          ]
        }
      ]
    },
    {
      "cell_type": "code",
      "source": [
        ""
      ],
      "metadata": {
        "id": "Go4tq9x73tpO"
      },
      "execution_count": null,
      "outputs": []
    },
    {
      "cell_type": "markdown",
      "source": [
        "## For which age most adhar card has declined ?"
      ],
      "metadata": {
        "id": "YA9w7MZN3yjr"
      }
    },
    {
      "cell_type": "code",
      "source": [
        "df.groupBy(\"Age\").count().show(5)"
      ],
      "metadata": {
        "colab": {
          "base_uri": "https://localhost:8080/"
        },
        "id": "uR7GWwfv30Zt",
        "outputId": "9eac6e12-434f-43d1-cf2c-7c8df3a75502"
      },
      "execution_count": 13,
      "outputs": [
        {
          "output_type": "stream",
          "name": "stdout",
          "text": [
            "+---+-----+\n",
            "|Age|count|\n",
            "+---+-----+\n",
            "| 31|  229|\n",
            "| 85|    2|\n",
            "| 65|   84|\n",
            "| 53|   61|\n",
            "| 78|   27|\n",
            "+---+-----+\n",
            "only showing top 5 rows\n",
            "\n"
          ]
        }
      ]
    },
    {
      "cell_type": "code",
      "source": [
        ""
      ],
      "metadata": {
        "id": "aQGd87tl32xu"
      },
      "execution_count": null,
      "outputs": []
    }
  ]
}